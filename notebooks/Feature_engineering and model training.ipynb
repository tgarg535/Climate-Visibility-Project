{
 "cells": [
  {
   "cell_type": "markdown",
   "id": "4437a980",
   "metadata": {},
   "source": [
    "# Data Pre-Processing"
   ]
  },
  {
   "cell_type": "markdown",
   "id": "74b4d7e0",
   "metadata": {},
   "source": [
    "#### Import Packages and CSV"
   ]
  },
  {
   "cell_type": "code",
   "execution_count": 2,
   "id": "5530cc59",
   "metadata": {},
   "outputs": [
    {
     "name": "stdout",
     "output_type": "stream",
     "text": [
      "(75083, 11)\n"
     ]
    }
   ],
   "source": [
    "import pandas as pd\n",
    "import numpy as np\n",
    "import matplotlib.pyplot as plt\n",
    "import seaborn as sns\n",
    "import warnings\n",
    "warnings.filterwarnings(\"ignore\")\n",
    "# Create Dataframe\n",
    "df = pd.read_csv('Data/jfk_weather_cleaned.csv')\n",
    "# Print shape of dataset\n",
    "print(df.shape)"
   ]
  },
  {
   "cell_type": "markdown",
   "id": "c27265bd",
   "metadata": {},
   "source": [
    "## Data Cleaning"
   ]
  },
  {
   "cell_type": "markdown",
   "id": "dbad805a",
   "metadata": {},
   "source": [
    "### Handling Missing values"
   ]
  },
  {
   "cell_type": "markdown",
   "id": "0a0c1c0d",
   "metadata": {},
   "source": [
    "* Handling Missing values \n",
    "* Handling Duplicates\n",
    "* Check data type\n",
    "* Understand the dataset"
   ]
  },
  {
   "cell_type": "markdown",
   "id": "40b4a428",
   "metadata": {},
   "source": [
    "#### Check Null Values"
   ]
  },
  {
   "cell_type": "markdown",
   "id": "b35c055d",
   "metadata": {},
   "source": [
    "**What does NaN mean?**\n",
    "\n",
    "**Ans:** Missing Values in a DataFrame\n",
    "\n",
    "**Why might a value be missing?** \n",
    "\n",
    "**Ans:** When considering the potential impact of the missing data on the Dataset, it is important to consider the underlying reasons for why the data are missing\n",
    "Missing data are of three categories:\n",
    "* Missing completely at random (MCAR)\n",
    "* Missing at random (MAR).\n",
    "* Missing not at random (MNAR). \n",
    "\n",
    "Here it is MCAR type of missing values in dataset which are Missing completely at Random. \n",
    "\n",
    "When we make this assumption, we are assuming the missing data is completely unrelated to the other information in the data."
   ]
  },
  {
   "cell_type": "code",
   "execution_count": 3,
   "id": "2b94aa8f",
   "metadata": {},
   "outputs": [
    {
     "name": "stdout",
     "output_type": "stream",
     "text": [
      "features which has null values are : []\n"
     ]
    }
   ],
   "source": [
    "##these are the features with nan value\n",
    "features_with_na=[features for features in df.columns if df[features].isnull().sum()>=1]\n",
    "print(\"features which has null values are : %s\" % features_with_na)\n",
    "for feature in features_with_na:\n",
    "    print(feature,np.round(df[feature].isnull().mean()*100,5), '% missing values')"
   ]
  },
  {
   "cell_type": "markdown",
   "id": "37bb041c",
   "metadata": {},
   "source": [
    "**We can see there is no columns with null values.**"
   ]
  },
  {
   "cell_type": "markdown",
   "id": "76eafe12",
   "metadata": {},
   "source": [
    "### 3.2 Other Data Cleaning steps"
   ]
  },
  {
   "cell_type": "markdown",
   "id": "471fd48f",
   "metadata": {},
   "source": [
    "**Handling Duplicates**"
   ]
  },
  {
   "cell_type": "code",
   "execution_count": 4,
   "id": "d8fa17e0",
   "metadata": {},
   "outputs": [
    {
     "data": {
      "text/plain": [
       "0"
      ]
     },
     "execution_count": 4,
     "metadata": {},
     "output_type": "execute_result"
    }
   ],
   "source": [
    "df.duplicated().sum()"
   ]
  },
  {
   "cell_type": "markdown",
   "id": "5cf6d275",
   "metadata": {},
   "source": [
    "**Drop the columns which we could see in the EDA notebook are not either important or having high correlation**"
   ]
  },
  {
   "cell_type": "code",
   "execution_count": 5,
   "id": "56611e69",
   "metadata": {},
   "outputs": [],
   "source": [
    "columns_to_drop = ['WETBULBTEMPF','DewPointTempF','StationPressure','Precip','DATE']\n",
    "\n",
    "df = df.drop(columns=columns_to_drop, axis=1)"
   ]
  },
  {
   "cell_type": "code",
   "execution_count": 6,
   "id": "ad6d547d",
   "metadata": {},
   "outputs": [
    {
     "data": {
      "text/html": [
       "<div>\n",
       "<style scoped>\n",
       "    .dataframe tbody tr th:only-of-type {\n",
       "        vertical-align: middle;\n",
       "    }\n",
       "\n",
       "    .dataframe tbody tr th {\n",
       "        vertical-align: top;\n",
       "    }\n",
       "\n",
       "    .dataframe thead th {\n",
       "        text-align: right;\n",
       "    }\n",
       "</style>\n",
       "<table border=\"1\" class=\"dataframe\">\n",
       "  <thead>\n",
       "    <tr style=\"text-align: right;\">\n",
       "      <th></th>\n",
       "      <th>VISIBILITY</th>\n",
       "      <th>DRYBULBTEMPF</th>\n",
       "      <th>RelativeHumidity</th>\n",
       "      <th>WindSpeed</th>\n",
       "      <th>WindDirection</th>\n",
       "      <th>SeaLevelPressure</th>\n",
       "    </tr>\n",
       "  </thead>\n",
       "  <tbody>\n",
       "    <tr>\n",
       "      <th>0</th>\n",
       "      <td>6.0</td>\n",
       "      <td>33</td>\n",
       "      <td>92</td>\n",
       "      <td>0</td>\n",
       "      <td>0</td>\n",
       "      <td>29.99</td>\n",
       "    </tr>\n",
       "    <tr>\n",
       "      <th>1</th>\n",
       "      <td>6.0</td>\n",
       "      <td>33</td>\n",
       "      <td>96</td>\n",
       "      <td>0</td>\n",
       "      <td>0</td>\n",
       "      <td>29.99</td>\n",
       "    </tr>\n",
       "    <tr>\n",
       "      <th>2</th>\n",
       "      <td>5.0</td>\n",
       "      <td>33</td>\n",
       "      <td>96</td>\n",
       "      <td>0</td>\n",
       "      <td>0</td>\n",
       "      <td>29.99</td>\n",
       "    </tr>\n",
       "    <tr>\n",
       "      <th>3</th>\n",
       "      <td>5.0</td>\n",
       "      <td>33</td>\n",
       "      <td>96</td>\n",
       "      <td>0</td>\n",
       "      <td>0</td>\n",
       "      <td>29.97</td>\n",
       "    </tr>\n",
       "    <tr>\n",
       "      <th>4</th>\n",
       "      <td>5.0</td>\n",
       "      <td>33</td>\n",
       "      <td>92</td>\n",
       "      <td>0</td>\n",
       "      <td>0</td>\n",
       "      <td>29.96</td>\n",
       "    </tr>\n",
       "  </tbody>\n",
       "</table>\n",
       "</div>"
      ],
      "text/plain": [
       "   VISIBILITY  DRYBULBTEMPF  RelativeHumidity  WindSpeed  WindDirection  \\\n",
       "0         6.0            33                92          0              0   \n",
       "1         6.0            33                96          0              0   \n",
       "2         5.0            33                96          0              0   \n",
       "3         5.0            33                96          0              0   \n",
       "4         5.0            33                92          0              0   \n",
       "\n",
       "   SeaLevelPressure  \n",
       "0             29.99  \n",
       "1             29.99  \n",
       "2             29.99  \n",
       "3             29.97  \n",
       "4             29.96  "
      ]
     },
     "execution_count": 6,
     "metadata": {},
     "output_type": "execute_result"
    }
   ],
   "source": [
    "#see the dataset now\n",
    "\n",
    "df.head()"
   ]
  },
  {
   "cell_type": "markdown",
   "id": "6d48a184",
   "metadata": {},
   "source": [
    "# Feature Engineering"
   ]
  },
  {
   "cell_type": "markdown",
   "id": "2b2b31e8",
   "metadata": {},
   "source": [
    "Feature engineering refers to manipulation — addition, deletion, combination, mutation — of your data set to improve machine learning model training, leading to better performance and greater accuracy. Effective feature engineering is based on sound knowledge of the business problem and the available data sources."
   ]
  },
  {
   "cell_type": "markdown",
   "id": "85df52e5",
   "metadata": {},
   "source": [
    "**Numeric Features**"
   ]
  },
  {
   "cell_type": "code",
   "execution_count": 7,
   "id": "baff199f",
   "metadata": {},
   "outputs": [
    {
     "name": "stdout",
     "output_type": "stream",
     "text": [
      "Num of Numerical Features : 6\n"
     ]
    }
   ],
   "source": [
    "num_features = [feature for feature in df.columns if df[feature].dtype != 'O']\n",
    "print('Num of Numerical Features :', len(num_features))"
   ]
  },
  {
   "cell_type": "markdown",
   "id": "e1107060",
   "metadata": {},
   "source": [
    "**Categorical Features**"
   ]
  },
  {
   "cell_type": "code",
   "execution_count": 8,
   "id": "ff997805",
   "metadata": {},
   "outputs": [
    {
     "name": "stdout",
     "output_type": "stream",
     "text": [
      "Num of Categorical Features : 0\n"
     ]
    }
   ],
   "source": [
    "cat_features = [feature for feature in df.columns if df[feature].dtype == 'O']\n",
    "print('Num of Categorical Features :', len(cat_features))"
   ]
  },
  {
   "cell_type": "markdown",
   "id": "3ca43676",
   "metadata": {},
   "source": [
    "**Discrete Features**"
   ]
  },
  {
   "cell_type": "code",
   "execution_count": 9,
   "id": "812ee6e0",
   "metadata": {},
   "outputs": [
    {
     "name": "stdout",
     "output_type": "stream",
     "text": [
      "Num of Discrete Features : 1 \n",
      "columns: ['VISIBILITY']\n"
     ]
    }
   ],
   "source": [
    "discrete_features=[feature for feature in num_features if len(df[feature].unique())<=25]\n",
    "print('Num of Discrete Features :',len(discrete_features),\"\\ncolumns:\", discrete_features)"
   ]
  },
  {
   "cell_type": "markdown",
   "id": "3e6740bf",
   "metadata": {},
   "source": [
    "**Continues Features**"
   ]
  },
  {
   "cell_type": "code",
   "execution_count": 10,
   "id": "e501c72b",
   "metadata": {},
   "outputs": [
    {
     "name": "stdout",
     "output_type": "stream",
     "text": [
      "Num of Continuous Features : 5\n"
     ]
    }
   ],
   "source": [
    "continuous_features=[feature for feature in num_features if feature not in discrete_features]\n",
    "print('Num of Continuous Features :',len(continuous_features))"
   ]
  },
  {
   "cell_type": "markdown",
   "id": "d234a954",
   "metadata": {},
   "source": [
    "### Check Outlier and Capping it"
   ]
  },
  {
   "cell_type": "markdown",
   "id": "29b1ab3b",
   "metadata": {},
   "source": [
    "**Why outliers?**\n",
    "* Data Entry error : Human error. \n",
    "* Measurement error: Instrument error. \n",
    "* Natural error: it will be Real life data.\n",
    "* Intentional error: People give wrong inputs\n",
    "\n",
    "**Impact of Outliers ?**\n",
    "* Ouliers can very high impact on few Machine learning models.\n",
    "* Can Cause bias in the output."
   ]
  },
  {
   "cell_type": "markdown",
   "id": "b2c78731",
   "metadata": {},
   "source": [
    "**Why IQR For Outlier Handling?**\n",
    "* For Skewed distributions: Use Inter-Quartile Range (IQR) proximity rule.\n",
    "\n",
    "* The data points which fall below Q1 – 1.5 IQR or above Q3 + 1.5 IQR are outliers.\n",
    "\n",
    "* where Q1 and Q3 are the 25th and 75th percentile of the dataset respectively, and IQR represents the inter-quartile range and given by Q3 – Q1."
   ]
  },
  {
   "cell_type": "code",
   "execution_count": 11,
   "id": "44909c4a",
   "metadata": {},
   "outputs": [
    {
     "data": {
      "text/plain": [
       "['DRYBULBTEMPF',\n",
       " 'RelativeHumidity',\n",
       " 'WindSpeed',\n",
       " 'WindDirection',\n",
       " 'SeaLevelPressure']"
      ]
     },
     "execution_count": 11,
     "metadata": {},
     "output_type": "execute_result"
    }
   ],
   "source": [
    "continuous_features"
   ]
  },
  {
   "cell_type": "markdown",
   "id": "b4cab561",
   "metadata": {},
   "source": [
    "## Outliers Detection"
   ]
  },
  {
   "cell_type": "code",
   "execution_count": 12,
   "id": "8e580ec1",
   "metadata": {},
   "outputs": [
    {
     "data": {
      "image/png": "[encoded data removed]",
      "text/plain": [
       "<Figure size 2500x1000 with 5 Axes>"
      ]
     },
     "metadata": {},
     "output_type": "display_data"
    }
   ],
   "source": [
    "cont_features = continuous_features.copy()\n",
    "plt.figure(figsize=(25, 10))\n",
    "\n",
    "for i in range(len(cont_features)):\n",
    "        plt.subplot(2,6,i+1)\n",
    "        sns.set_style('ticks')\n",
    "        plt.xlabel(cont_features[i])\n",
    "        ax = sns.boxplot(df[cont_features[i]])"
   ]
  },
  {
   "cell_type": "markdown",
   "id": "8376f708",
   "metadata": {},
   "source": [
    "**report**\n",
    "- We can see, there are no such outliers in `DRYBULBTEMPF`, `RelativeHumidity`, and `WindDirection` Columns\n",
    "- But there are outliers in  `WindSpeed`, ` SeaLevelPressure` following columns \n"
   ]
  },
  {
   "cell_type": "markdown",
   "id": "6770c24d",
   "metadata": {},
   "source": [
    "**Detecting Outlier and Capping it**"
   ]
  },
  {
   "cell_type": "code",
   "execution_count": 13,
   "id": "6ec840e1",
   "metadata": {},
   "outputs": [
    {
     "name": "stdout",
     "output_type": "stream",
     "text": [
      "\n",
      " #### DRYBULBTEMPF ####\n",
      "percentile25 42.0\n",
      "percentile75 70.0\n",
      "IQR 28.0\n",
      "Upper limit 112.0\n",
      "Lower limit 0.0\n",
      "\n",
      " #### RelativeHumidity ####\n",
      "percentile25 49.0\n",
      "percentile75 82.0\n",
      "IQR 33.0\n",
      "Upper limit 131.5\n",
      "Lower limit -0.5\n",
      "\n",
      " #### WindSpeed ####\n",
      "percentile25 7.0\n",
      "percentile75 15.0\n",
      "IQR 8.0\n",
      "Upper limit 27.0\n",
      "Lower limit -5.0\n",
      "\n",
      " #### WindDirection ####\n",
      "percentile25 110.0\n",
      "percentile75 290.0\n",
      "IQR 180.0\n",
      "Upper limit 560.0\n",
      "Lower limit -160.0\n",
      "\n",
      " #### SeaLevelPressure ####\n",
      "percentile25 29.88\n",
      "percentile75 30.17\n",
      "IQR 0.2900000000000027\n",
      "Upper limit 30.605000000000004\n",
      "Lower limit 29.444999999999993\n"
     ]
    }
   ],
   "source": [
    "def detect_outliers(col):\n",
    "    # Finding the IQR\n",
    "    percentile25 = df[col].quantile(0.25)\n",
    "    percentile75 = df[col].quantile(0.75)\n",
    "    print('\\n ####', col , '####')\n",
    "    print(\"percentile25\",percentile25)\n",
    "    print(\"percentile75\",percentile75)\n",
    "    iqr = percentile75 - percentile25  # Q3-Q1\n",
    "    print(\"IQR\",iqr)\n",
    "    # Finding the upper and lower limits\n",
    "    upper_limit = percentile75 + 1.5 * iqr  # Q3 + 1.5*IQR\n",
    "    lower_limit = percentile25 - 1.5 * iqr  #Q1 - 1.5*IQR\n",
    "    print(\"Upper limit\",upper_limit)\n",
    "    print(\"Lower limit\",lower_limit)\n",
    "    df.loc[(df[col]>upper_limit), col]= upper_limit\n",
    "    df.loc[(df[col]<lower_limit), col]= lower_limit    \n",
    "    return df\n",
    "\n",
    "\n",
    "\n",
    "\n",
    "for col in continuous_features:\n",
    "    detect_outliers(col=col)"
   ]
  },
  {
   "cell_type": "code",
   "execution_count": 14,
   "id": "f9ea8974",
   "metadata": {},
   "outputs": [
    {
     "data": {
      "image/png": "[encoded data removed]",
      "text/plain": [
       "<Figure size 2500x1000 with 5 Axes>"
      ]
     },
     "metadata": {},
     "output_type": "display_data"
    }
   ],
   "source": [
    "cont_features = continuous_features.copy()\n",
    "plt.figure(figsize=(25, 10))\n",
    "\n",
    "for i in range(len(cont_features)):\n",
    "        plt.subplot(2,6,i+1)\n",
    "        sns.set_style('ticks')\n",
    "        plt.xlabel(cont_features[i])\n",
    "        ax = sns.boxplot(df[cont_features[i]])"
   ]
  },
  {
   "cell_type": "markdown",
   "id": "b1ec524f",
   "metadata": {},
   "source": [
    "**Why are we capping it and why not trim it ?**\n",
    "* Trimming outliers may result in the removal of a large number of records from this dataset as we have already very less rows so this isn’t desirable in this case since columns other than the ones containing the outlier values may contain useful information.\n",
    "\n",
    "* In this cases, you can use outlier capping to replace the outlier values with a maximum or minimum capped values. Be warned, this manipulates our data but we can replace outlier values by the upper and lower limit calculated using the IQR range."
   ]
  },
  {
   "cell_type": "markdown",
   "id": "a890a255",
   "metadata": {},
   "source": [
    "**Checking Skewness after Outlier Capping**"
   ]
  },
  {
   "cell_type": "code",
   "execution_count": 15,
   "id": "4038a207",
   "metadata": {},
   "outputs": [
    {
     "data": {
      "text/plain": [
       "DRYBULBTEMPF       -0.149154\n",
       "RelativeHumidity   -0.186890\n",
       "WindSpeed           0.471627\n",
       "WindDirection      -0.335758\n",
       "SeaLevelPressure    0.005286\n",
       "dtype: float64"
      ]
     },
     "execution_count": 15,
     "metadata": {},
     "output_type": "execute_result"
    }
   ],
   "source": [
    "df[continuous_features].skew(axis=0, skipna=True)"
   ]
  },
  {
   "cell_type": "markdown",
   "id": "ca2d817d",
   "metadata": {},
   "source": [
    "## Feature Transformation"
   ]
  },
  {
   "cell_type": "markdown",
   "id": "c0aa9fa0",
   "metadata": {},
   "source": [
    "### Scaling \n",
    "- **What is Feature Scaling**\n",
    "    - Feature scaling is a method used to normalize the range of independent variables or features of data. In data processing, it is also known as data normalization and is generally performed during the data preprocessing step.\n",
    "- **Why we use feature scaling?**\n",
    "    - the feature scaling was implemented to prevent any skewness in the contour plot of the cost function which affects the gradient descent but the analytical solution using normal equation does not suffer from the same drawback."
   ]
  },
  {
   "cell_type": "markdown",
   "id": "13496691",
   "metadata": {},
   "source": [
    "- StandardScaler\n",
    "StandardScaler standardizes a feature by subtracting the mean and then scaling to unit variance. Unit variance means dividing all the values by the standard deviation.\n",
    "\n",
    "- PowerTransformer\n",
    "Power transforms are a family of parametric, monotonic transformations that are applied to make data more Gaussian-like. This is useful for modeling issues related to heteroscedasticity (non-constant variance), or other situations where normality is desired.\n",
    "\n",
    "- ColumnTransformer\n",
    "Applies transformers to columns of an array or pandas DataFrame. This estimator allows different columns or column subsets of the input to be transformed separately and the features generated by each transformer will be concatenated to form a single feature space.\n",
    "\n",
    "- SimpleImputer\n",
    "SimpleImputer is a scikit-learn class which is helpful in handling the missing data in the predictive model dataset. It replaces the NaN values with a specified placeholder.\n",
    "\n",
    "- Pipeline\n",
    "The purpose of the pipeline is to assemble several steps that can be cross-validated together while setting different parameters. For this, it enables setting parameters of the various steps using their names and the parameter name separated by a '__' ."
   ]
  },
  {
   "cell_type": "code",
   "execution_count": 16,
   "id": "aeee96bb",
   "metadata": {},
   "outputs": [],
   "source": [
    "numeric_features = [feature for feature in df.columns if df[feature].dtype != 'O']\n",
    "outlier_features = ['WindSpeed', 'SeaLevelPressure'] #we can find the columns which has oitliers in the EDA\n",
    "numeric_features = [x for x in numeric_features if x not in outlier_features]"
   ]
  },
  {
   "cell_type": "markdown",
   "id": "5a2cf140",
   "metadata": {},
   "source": [
    "### Model Building ( Clustering )\n",
    "\n",
    "We know that our dataset it unsupervised, that means we don't have such target column. So we will be using clustering algorithms first to cluster the dataset and create target levels out of it. \n",
    "\n",
    "- What is Clustering?\n",
    "> Using a clustering algorithm means you're going to give the algorithm a lot of input data with no labels and let it find any groupings in the data it can. Those groupings are called clusters. A cluster is a group of data points that are similar to each other based on their relation to surrounding data points.\n",
    "\n",
    "Here for Clustering Problem statement, 4 Algorithms are used.\n",
    "\n",
    "- K-Means Clustering\n",
    "- Agglomerative Clustering\n",
    "- Gaussian Mixture\n",
    "- DBSCAN"
   ]
  },
  {
   "cell_type": "markdown",
   "id": "1f579636",
   "metadata": {},
   "source": [
    "### Create a function for Silhouette score plot"
   ]
  },
  {
   "cell_type": "markdown",
   "id": "1c691c40",
   "metadata": {},
   "source": [
    "- **What is silhouette score**\n",
    "\n",
    "The silhouette value is a measure of how similar an object is to its o**wn cluster (cohesion) compared to other clusters (separation). The silhouette ranges from −1 to +1, where a high value indicates that the object is well matched to its own cluster and poorly matched to neighboring clusters."
   ]
  },
  {
   "cell_type": "markdown",
   "id": "2322c6f5",
   "metadata": {},
   "source": [
    "#### Elbow Method to find best Clusters for K-Means\n",
    "- In the Elbow method, we are actually varying the number of clusters ( K ) from 1 – 10. For each value of K, we are calculating WCSS ( Within-Cluster Sum of Square ). WCSS is the sum of squared distance between each point and the centroid in a cluster. When we plot the WCSS with the K value, the plot looks like an Elbow. As the number of clusters increases, the WCSS value will start to decrease. WCSS value is largest when K = 1. When we analyze the graph we can see that the graph will rapidly change at a point and thus creating an elbow shape."
   ]
  },
  {
   "cell_type": "code",
   "execution_count": 17,
   "id": "3b219da7",
   "metadata": {},
   "outputs": [
    {
     "data": {
      "image/png": "[encoded data removed]",
      "text/plain": [
       "<Figure size 1200x600 with 1 Axes>"
      ]
     },
     "metadata": {},
     "output_type": "display_data"
    }
   ],
   "source": [
    "from sklearn.cluster import KMeans\n",
    "\n",
    "\n",
    "wcss= {}\n",
    "# sns.set()\n",
    "plt.figure(figsize=(12,6))\n",
    "for i in range(1,11): \n",
    "    km = KMeans(n_clusters=i)\n",
    "    km.fit(df)\n",
    "    wcss[i]=km.inertia_\n",
    "\n",
    "plt.plot(range(1,11),wcss.values(), marker='*')\n",
    "plt.title('Elbow Method-Finding Optimal k value', fontsize =20)\n",
    "plt.xlabel('K value (Num of Clusters)')\n",
    "plt.ylabel('WCSS')\n",
    "plt.show()"
   ]
  },
  {
   "cell_type": "markdown",
   "id": "32dbe1dc",
   "metadata": {},
   "source": [
    "- Here the optimum number of cluster is 3 cluster since it is the place where the graph start to flatten out meaning that having higher number of cluster will not yield a much more fitting machine."
   ]
  },
  {
   "cell_type": "markdown",
   "id": "b44d06b6",
   "metadata": {},
   "source": [
    "**Reports:**\n",
    "\n",
    "* We will use **k = 3**, thus there will be **three clusters** in our dataset.\n",
    "* We will use **KMeans Algorithm** for clustering."
   ]
  },
  {
   "cell_type": "markdown",
   "id": "6d117aad",
   "metadata": {},
   "source": [
    "### Apply Kmeans Clustering with 3 clusters"
   ]
  },
  {
   "cell_type": "code",
   "execution_count": 18,
   "id": "a782db94",
   "metadata": {},
   "outputs": [
    {
     "name": "stdout",
     "output_type": "stream",
     "text": [
      "The optimum number of clusters is: 3 . Exited the elbow_plot method of the KMeansClustering class\n",
      "no of clusters is 3\n"
     ]
    }
   ],
   "source": [
    "from kneed import KneeLocator\n",
    "\n",
    "def select_no_of_clusters(dataframe):\n",
    "\n",
    "    wcss=[] # initializing an empty list\n",
    "    try:\n",
    "        for i in range (1,11):\n",
    "            kmeans=KMeans(n_clusters=i,init='k-means++',random_state=42) # initializing the KMeans object\n",
    "            kmeans.fit(dataframe) # fitting the data to the KMeans Algorithm\n",
    "            wcss.append(kmeans.inertia_)\n",
    "        kn = KneeLocator(range(1, 11), wcss, curve='convex', direction='decreasing')\n",
    "        print('The optimum number of clusters is: '+str(kn.knee)+' . Exited the elbow_plot method of the KMeansClustering class')\n",
    "        return kn.knee\n",
    "    except Exception as e:\n",
    "        print(e)\n",
    "\n",
    "no_of_clusters = select_no_of_clusters(df)\n",
    "print(\"no of clusters is\", no_of_clusters)\n",
    "kmeans = KMeans(n_clusters=no_of_clusters)\n",
    "kmeans.fit(df)\n",
    "labels = kmeans.predict(df)\n",
    "df['Cluster'] = labels"
   ]
  },
  {
   "cell_type": "code",
   "execution_count": 19,
   "id": "f52cd7bf",
   "metadata": {},
   "outputs": [
    {
     "data": {
      "text/plain": [
       "Cluster\n",
       "0    29132\n",
       "1    27011\n",
       "2    18940\n",
       "Name: count, dtype: int64"
      ]
     },
     "execution_count": 19,
     "metadata": {},
     "output_type": "execute_result"
    }
   ],
   "source": [
    "df['Cluster'].value_counts()"
   ]
  },
  {
   "cell_type": "markdown",
   "id": "8ada038e",
   "metadata": {},
   "source": [
    "## Apply standardscaler"
   ]
  },
  {
   "cell_type": "code",
   "execution_count": 20,
   "id": "fcc108d3",
   "metadata": {},
   "outputs": [],
   "source": [
    "from sklearn.preprocessing import StandardScaler\n",
    "from sklearn.model_selection import train_test_split\n",
    "\n",
    "train_set, test_set = train_test_split(df, test_size=0.2)\n",
    "\n",
    "X_train = train_set.drop(columns=['VISIBILITY', 'Cluster'])\n",
    "y_train = train_set[['VISIBILITY']]\n",
    "X_test = test_set.drop(columns=['VISIBILITY', 'Cluster'])\n",
    "y_test = test_set[['VISIBILITY']]\n",
    "\n",
    "preprocessor = StandardScaler()\n",
    "X_train = preprocessor.fit_transform(X_train)\n",
    "X_test = preprocessor.transform(X_test)"
   ]
  },
  {
   "cell_type": "code",
   "execution_count": 21,
   "id": "56e23c69",
   "metadata": {},
   "outputs": [
    {
     "name": "stderr",
     "output_type": "stream",
     "text": [
      "2025-05-03 15:09:32,743 - distributed.nanny - WARNING - Restarting worker\n",
      "2025-05-03 15:09:32,754 - distributed.nanny - WARNING - Restarting worker\n",
      "2025-05-03 15:09:32,758 - distributed.nanny - WARNING - Restarting worker\n",
      "2025-05-03 15:09:32,763 - distributed.nanny - WARNING - Restarting worker\n"
     ]
    },
    {
     "name": "stdout",
     "output_type": "stream",
     "text": [
      "linear_regression model is trained\n",
      "ridge_regression model is trained\n",
      "lasso_regression model is trained\n",
      "elasticnet model is trained\n",
      "decision_tree_regressor model is trained\n",
      "random_forest_regressor model is trained\n"
     ]
    },
    {
     "data": {
      "text/plain": [
       "[{'model_name': 'linear_regression', 'model_score': 0.256566992034725},\n",
       " {'model_name': 'ridge_regression', 'model_score': 0.25656677764864766},\n",
       " {'model_name': 'lasso_regression', 'model_score': 0.007736280397262929},\n",
       " {'model_name': 'elasticnet', 'model_score': 0.1223217574704144},\n",
       " {'model_name': 'decision_tree_regressor', 'model_score': 0.2633413944896421},\n",
       " {'model_name': 'random_forest_regressor', 'model_score': 0.6026162448266902}]"
      ]
     },
     "execution_count": 21,
     "metadata": {},
     "output_type": "execute_result"
    }
   ],
   "source": [
    "import dask.distributed as distributed\n",
    "\n",
    "cluster = distributed.LocalCluster()\n",
    "client = distributed.Client(cluster)\n",
    "client.restart()\n",
    "\n",
    "\n",
    "\n",
    "#let's import the models\n",
    "from sklearn.linear_model import LinearRegression, Ridge, Lasso, ElasticNet\n",
    "from xgboost.sklearn import XGBRegressor\n",
    "from sklearn.tree import DecisionTreeRegressor\n",
    "from sklearn.ensemble import RandomForestRegressor\n",
    "from sklearn.svm import SVR\n",
    "from sklearn.metrics import r2_score\n",
    "\n",
    "\n",
    "\n",
    "models = {}\n",
    "models['linear_regression'] = LinearRegression()\n",
    "models['ridge_regression'] = Ridge()\n",
    "models['lasso_regression'] = Lasso()\n",
    "models['elasticnet'] = ElasticNet()\n",
    "models['decision_tree_regressor'] = DecisionTreeRegressor()\n",
    "models['random_forest_regressor'] = RandomForestRegressor()\n",
    "\n",
    "def select_best_model(models = models, x_train = X_train, y_train = y_train, x_test = X_test, y_test = y_test):\n",
    "    \n",
    "    models_details = []\n",
    "    for model_name, model in models.items():\n",
    "        model_detail = {}\n",
    "        model.fit(x_train, y_train)\n",
    "        y_pred = model.predict(x_test)\n",
    "        model_score = r2_score(y_test, y_pred)\n",
    "        model_detail['model_name'] = model_name\n",
    "        model_detail['model_score'] = model_score\n",
    "        print(\"%s model is trained\" % model_name)\n",
    "\n",
    "        models_details.append(model_detail)\n",
    "\n",
    "    return models_details\n",
    "\n",
    "\n",
    "models_details = select_best_model()\n",
    "models_details\n",
    "        \n",
    "\n",
    "\n"
   ]
  },
  {
   "cell_type": "markdown",
   "id": "2c60ac38",
   "metadata": {},
   "source": [
    "**As seen, we will continue our model training with randomforest regressir**"
   ]
  },
  {
   "cell_type": "markdown",
   "id": "bd0f96e3",
   "metadata": {},
   "source": [
    "# Read model.yml file to get randomforest params"
   ]
  },
  {
   "cell_type": "code",
   "execution_count": 22,
   "id": "3914d0bf",
   "metadata": {},
   "outputs": [],
   "source": [
    "# root path\n",
    "import sys\n",
    "sys.path.append(\"..\")\n",
    "# import utils\n",
    "from src.utils.main_utils import MainUtils\n",
    "\n",
    "import os\n",
    "os.chdir(\"..\")\n",
    "utils = MainUtils()\n",
    "rf_grid = utils.read_yaml_file(\"config/model.yaml\")['model_selection']['model']['Random Forest Regression']['search_param_grid']"
   ]
  },
  {
   "cell_type": "code",
   "execution_count": 23,
   "id": "444d9cca",
   "metadata": {},
   "outputs": [
    {
     "data": {
      "text/plain": [
       "{'n_estimators': [50, 100, 130],\n",
       " 'max_depth': [10, 20, 30],\n",
       " 'min_samples_split': [2, 6, 10],\n",
       " 'bootstrap': [True, False]}"
      ]
     },
     "execution_count": 23,
     "metadata": {},
     "output_type": "execute_result"
    }
   ],
   "source": [
    "rf_grid"
   ]
  },
  {
   "cell_type": "markdown",
   "id": "eb7bf971",
   "metadata": {},
   "source": [
    "# let's start CV operation on top of randomforest"
   ]
  },
  {
   "cell_type": "code",
   "execution_count": 24,
   "id": "54368ff7",
   "metadata": {},
   "outputs": [
    {
     "name": "stdout",
     "output_type": "stream",
     "text": [
      "Fitting 2 folds for each of 54 candidates, totalling 108 fits\n"
     ]
    }
   ],
   "source": [
    "from sklearn.model_selection import GridSearchCV\n",
    "import joblib\n",
    "\n",
    "with joblib.parallel_backend('dask'):\n",
    "    model_grid = GridSearchCV(\n",
    "        RandomForestRegressor(), rf_grid, \n",
    "        cv = 2,\n",
    "        n_jobs = -1 ,\n",
    "        verbose=3 )\n",
    "    model_grid.fit(X_train,y_train)\n"
   ]
  },
  {
   "cell_type": "markdown",
   "id": "9effd90b",
   "metadata": {},
   "source": [
    "## Best params for randomforest"
   ]
  },
  {
   "cell_type": "code",
   "execution_count": 25,
   "id": "c6efc818",
   "metadata": {},
   "outputs": [],
   "source": [
    "best_params = model_grid.best_params_\n",
    "rf_model = RandomForestRegressor(**best_params)"
   ]
  },
  {
   "cell_type": "markdown",
   "id": "d5b5366a",
   "metadata": {},
   "source": [
    "## Let's train our model"
   ]
  },
  {
   "cell_type": "code",
   "execution_count": 26,
   "id": "b337a144",
   "metadata": {},
   "outputs": [
    {
     "name": "stdout",
     "output_type": "stream",
     "text": [
      "Training on cluster_no 1\n",
      "score for cluster no 1 is: 0.6266377903842019\n",
      "Training on cluster_no 0\n",
      "score for cluster no 0 is: 0.5841993761192448\n",
      "Training on cluster_no 2\n",
      "score for cluster no 2 is: 0.5686270142605625\n"
     ]
    }
   ],
   "source": [
    "\n",
    "def train_model():\n",
    "    models = {}\n",
    "    preprocessor = StandardScaler()\n",
    "    list_of_clusters:list = train_set['Cluster'].unique()\n",
    "    model = []\n",
    "    for cluster_no in list_of_clusters:\n",
    "        train_set_cluster = train_set[train_set['Cluster'] == cluster_no]\n",
    "        test_set_cluster = test_set[test_set['Cluster'] == cluster_no]\n",
    "\n",
    "        X_train = train_set_cluster.drop(columns = ['VISIBILITY', 'Cluster'])\n",
    "        X_test = test_set_cluster.drop(columns = ['VISIBILITY', 'Cluster'])\n",
    "        \n",
    "        X_train = preprocessor.fit_transform(X_train)\n",
    "        X_test = preprocessor.transform(X_test)\n",
    "        \n",
    "        y_train = train_set_cluster[['VISIBILITY']]\n",
    "        y_test = test_set_cluster[['VISIBILITY']]\n",
    "        print(f\"Training on cluster_no {cluster_no}\")\n",
    "        model = rf_model\n",
    "        \n",
    "        model.fit(X_train, y_train)\n",
    "        y_pred = model.predict(X_test)\n",
    "        \n",
    "        score = r2_score(y_test,y_pred)\n",
    "        print(f\"score for cluster no {cluster_no} is: {score}\")\n",
    "        \n",
    "        models[f\"model_{cluster_no}\"] = model\n",
    "    return models\n",
    "\n",
    "        # print(X_train, y_train, X_test, y_test)\n",
    "        \n",
    "        \n",
    "models = train_model()"
   ]
  },
  {
   "cell_type": "code",
   "execution_count": 27,
   "id": "36d426bb",
   "metadata": {},
   "outputs": [
    {
     "data": {
      "text/plain": [
       "{'model_1': RandomForestRegressor(max_depth=30, min_samples_split=10, n_estimators=130),\n",
       " 'model_0': RandomForestRegressor(max_depth=30, min_samples_split=10, n_estimators=130),\n",
       " 'model_2': RandomForestRegressor(max_depth=30, min_samples_split=10, n_estimators=130)}"
      ]
     },
     "execution_count": 27,
     "metadata": {},
     "output_type": "execute_result"
    }
   ],
   "source": [
    "models"
   ]
  },
  {
   "cell_type": "markdown",
   "id": "cda467ac",
   "metadata": {},
   "source": [
    "### Final report\n",
    "- As we got the EDA results, we used that same approaches here also. We dropped some features to avoid multicollinearity\n",
    "- The data had outliers and multicollinearity, We created methods to handle those things\n",
    "- Kmeans Clustering algorithm we have applied and amongst many ml models, randomforest performed well."
   ]
  },
  {
   "cell_type": "code",
   "execution_count": 28,
   "id": "a14dfd51",
   "metadata": {},
   "outputs": [],
   "source": [
    "# Pickle/Save the model\n",
    "import pickle\n",
    "pickle.dump(rf_model, open('model.pkl', 'wb'))\n",
    "# Load the model from disk\n",
    "loaded_model = pickle.load(open('model.pkl', 'rb'))\n"
   ]
  },
  {
   "cell_type": "code",
   "execution_count": 29,
   "id": "815a54bd",
   "metadata": {},
   "outputs": [
    {
     "data": {
      "text/html": [
       "<style>#sk-container-id-1 {color: black;}#sk-container-id-1 pre{padding: 0;}#sk-container-id-1 div.sk-toggleable {background-color: white;}#sk-container-id-1 label.sk-toggleable__label {cursor: pointer;display: block;width: 100%;margin-bottom: 0;padding: 0.3em;box-sizing: border-box;text-align: center;}#sk-container-id-1 label.sk-toggleable__label-arrow:before {content: \"▸\";float: left;margin-right: 0.25em;color: #696969;}#sk-container-id-1 label.sk-toggleable__label-arrow:hover:before {color: black;}#sk-container-id-1 div.sk-estimator:hover label.sk-toggleable__label-arrow:before {color: black;}#sk-container-id-1 div.sk-toggleable__content {max-height: 0;max-width: 0;overflow: hidden;text-align: left;background-color: #f0f8ff;}#sk-container-id-1 div.sk-toggleable__content pre {margin: 0.2em;color: black;border-radius: 0.25em;background-color: #f0f8ff;}#sk-container-id-1 input.sk-toggleable__control:checked~div.sk-toggleable__content {max-height: 200px;max-width: 100%;overflow: auto;}#sk-container-id-1 input.sk-toggleable__control:checked~label.sk-toggleable__label-arrow:before {content: \"▾\";}#sk-container-id-1 div.sk-estimator input.sk-toggleable__control:checked~label.sk-toggleable__label {background-color: #d4ebff;}#sk-container-id-1 div.sk-label input.sk-toggleable__control:checked~label.sk-toggleable__label {background-color: #d4ebff;}#sk-container-id-1 input.sk-hidden--visually {border: 0;clip: rect(1px 1px 1px 1px);clip: rect(1px, 1px, 1px, 1px);height: 1px;margin: -1px;overflow: hidden;padding: 0;position: absolute;width: 1px;}#sk-container-id-1 div.sk-estimator {font-family: monospace;background-color: #f0f8ff;border: 1px dotted black;border-radius: 0.25em;box-sizing: border-box;margin-bottom: 0.5em;}#sk-container-id-1 div.sk-estimator:hover {background-color: #d4ebff;}#sk-container-id-1 div.sk-parallel-item::after {content: \"\";width: 100%;border-bottom: 1px solid gray;flex-grow: 1;}#sk-container-id-1 div.sk-label:hover label.sk-toggleable__label {background-color: #d4ebff;}#sk-container-id-1 div.sk-serial::before {content: \"\";position: absolute;border-left: 1px solid gray;box-sizing: border-box;top: 0;bottom: 0;left: 50%;z-index: 0;}#sk-container-id-1 div.sk-serial {display: flex;flex-direction: column;align-items: center;background-color: white;padding-right: 0.2em;padding-left: 0.2em;position: relative;}#sk-container-id-1 div.sk-item {position: relative;z-index: 1;}#sk-container-id-1 div.sk-parallel {display: flex;align-items: stretch;justify-content: center;background-color: white;position: relative;}#sk-container-id-1 div.sk-item::before, #sk-container-id-1 div.sk-parallel-item::before {content: \"\";position: absolute;border-left: 1px solid gray;box-sizing: border-box;top: 0;bottom: 0;left: 50%;z-index: -1;}#sk-container-id-1 div.sk-parallel-item {display: flex;flex-direction: column;z-index: 1;position: relative;background-color: white;}#sk-container-id-1 div.sk-parallel-item:first-child::after {align-self: flex-end;width: 50%;}#sk-container-id-1 div.sk-parallel-item:last-child::after {align-self: flex-start;width: 50%;}#sk-container-id-1 div.sk-parallel-item:only-child::after {width: 0;}#sk-container-id-1 div.sk-dashed-wrapped {border: 1px dashed gray;margin: 0 0.4em 0.5em 0.4em;box-sizing: border-box;padding-bottom: 0.4em;background-color: white;}#sk-container-id-1 div.sk-label label {font-family: monospace;font-weight: bold;display: inline-block;line-height: 1.2em;}#sk-container-id-1 div.sk-label-container {text-align: center;}#sk-container-id-1 div.sk-container {/* jupyter's `normalize.less` sets `[hidden] { display: none; }` but bootstrap.min.css set `[hidden] { display: none !important; }` so we also need the `!important` here to be able to override the default hidden behavior on the sphinx rendered scikit-learn.org. See: https://github.com/scikit-learn/scikit-learn/issues/21755 */display: inline-block !important;position: relative;}#sk-container-id-1 div.sk-text-repr-fallback {display: none;}</style><div id=\"sk-container-id-1\" class=\"sk-top-container\"><div class=\"sk-text-repr-fallback\"><pre>RandomForestRegressor(max_depth=30, min_samples_split=10, n_estimators=130)</pre><b>In a Jupyter environment, please rerun this cell to show the HTML representation or trust the notebook. <br />On GitHub, the HTML representation is unable to render, please try loading this page with nbviewer.org.</b></div><div class=\"sk-container\" hidden><div class=\"sk-item\"><div class=\"sk-estimator sk-toggleable\"><input class=\"sk-toggleable__control sk-hidden--visually\" id=\"sk-estimator-id-1\" type=\"checkbox\" checked><label for=\"sk-estimator-id-1\" class=\"sk-toggleable__label sk-toggleable__label-arrow\">RandomForestRegressor</label><div class=\"sk-toggleable__content\"><pre>RandomForestRegressor(max_depth=30, min_samples_split=10, n_estimators=130)</pre></div></div></div></div></div>"
      ],
      "text/plain": [
       "RandomForestRegressor(max_depth=30, min_samples_split=10, n_estimators=130)"
      ]
     },
     "execution_count": 29,
     "metadata": {},
     "output_type": "execute_result"
    }
   ],
   "source": [
    "loaded_model"
   ]
  }
 ],
 "metadata": {
  "kernelspec": {
   "display_name": ".venv",
   "language": "python",
   "name": "python3"
  },
  "language_info": {
   "codemirror_mode": {
    "name": "ipython",
    "version": 3
   },
   "file_extension": ".py",
   "mimetype": "text/x-python",
   "name": "python",
   "nbconvert_exporter": "python",
   "pygments_lexer": "ipython3",
   "version": "3.8.0"
  }
 },
 "nbformat": 4,
 "nbformat_minor": 5
}

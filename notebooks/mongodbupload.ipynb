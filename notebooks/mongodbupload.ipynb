{
 "cells": [
  {
   "cell_type": "code",
   "execution_count": null,
   "id": "3de69f9f-8ee7-42ef-8840-0b0b02501c27",
   "metadata": {},
   "outputs": [
    {
     "name": "stdout",
     "output_type": "stream",
     "text": [
      "✅ Connected to MongoDB Atlas\n",
      "📂 Processing file: D:\\Climate-Visibility\\notebooks\\data.csv\n",
      "✅ 75083 records uploaded to collection: data\n"
     ]
    }
   ],
   "source": [
    "import os\n",
    "import certifi\n",
    "import pymongo\n",
    "import pandas as pd\n",
    "\n",
    "# ✅ Get the CA certificate for secure connection\n",
    "ca = certifi.where()\n",
    "\n",
    "# ✅ MongoDB Connection Details\n",
    "MONGO_DB_URL = \"mongodb+srv://simranskills:<db-password>@cluster0.w8hdb.mongodb.net/?retryWrites=true&w=majority&appName=Cluster0\"\n",
    "DATABASE_NAME = \"visibility\"\n",
    "DATASETS_DIR = r\"D:\\Climate-Visibility\\notebooks\"\n",
    "\n",
    "# ✅ Establish MongoDB Connection\n",
    "try:\n",
    "    client = pymongo.MongoClient(MONGO_DB_URL, tlsCAFile=ca)\n",
    "    database = client[DATABASE_NAME]\n",
    "    print(\"✅ Connected to MongoDB Atlas\")\n",
    "except Exception as e:\n",
    "    raise Exception(f\"MongoDB connection failed: {e}\")\n",
    "\n",
    "# ✅ Function to Upload CSV Files to MongoDB\n",
    "def upload_files_to_mongodb(datasets_dir):\n",
    "    for file in os.listdir(datasets_dir):\n",
    "        if file.endswith('.csv'):\n",
    "            collection_name = file.split('.')[0]  # Use CSV filename as collection name\n",
    "            collection = database[collection_name]  # Get MongoDB collection\n",
    "\n",
    "            file_path = os.path.join(datasets_dir, file)\n",
    "            print(f\"📂 Processing file: {file_path}\")\n",
    "\n",
    "            # Read CSV file into DataFrame\n",
    "            df = pd.read_csv(file_path)\n",
    "\n",
    "            # ✅ Strip column names to remove extra spaces\n",
    "            df.columns = df.columns.str.strip()\n",
    "\n",
    "            # ✅ Convert all values to string (MongoDB compatibility)\n",
    "            df = df.astype(str)\n",
    "\n",
    "            # ✅ Convert DataFrame to list of dictionaries\n",
    "            data = df.to_dict(orient=\"records\")\n",
    "\n",
    "            # ✅ Insert into MongoDB\n",
    "            if data:\n",
    "                collection.insert_many(data)\n",
    "                print(f\"✅ {len(data)} records uploaded to collection: {collection_name}\")\n",
    "            else:\n",
    "                print(f\"⚠️ No data found in {file}\")\n",
    "\n",
    "# ✅ Run the Function\n",
    "upload_files_to_mongodb(DATASETS_DIR)\n"
   ]
  },
  {
   "cell_type": "code",
   "execution_count": null,
   "id": "342100a0",
   "metadata": {},
   "outputs": [],
   "source": []
  }
 ],
 "metadata": {
  "kernelspec": {
   "display_name": ".venv",
   "language": "python",
   "name": "python3"
  },
  "language_info": {
   "codemirror_mode": {
    "name": "ipython",
    "version": 3
   },
   "file_extension": ".py",
   "mimetype": "text/x-python",
   "name": "python",
   "nbconvert_exporter": "python",
   "pygments_lexer": "ipython3",
   "version": "3.8.0"
  }
 },
 "nbformat": 4,
 "nbformat_minor": 5
}
